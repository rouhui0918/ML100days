{
 "cells": [
  {
   "cell_type": "markdown",
   "metadata": {
    "id": "auEAuEgT4oXE"
   },
   "source": [
    "## Work\n",
    "1. 請嘗試將 preproc_x 替換成以每筆資料的 min/max 進行標準化至 -1 ~ 1 間，再進行訓練\n",
    "2. 請嘗試將 mlp 疊更深 (e.g 5~10 層)，進行訓練後觀察 learning curve 的走勢\n",
    "3. (optional) 請改用 GPU 進行訓練 (可善用 google colab)，比較使用 CPU 與 GPU 的訓練速度"
   ]
  },
  {
   "cell_type": "code",
   "execution_count": 1,
   "metadata": {
    "id": "wujF_rVq4oXF",
    "outputId": "eb23eca8-6055-4eb3-8931-b2e7da7fa596"
   },
   "outputs": [],
   "source": [
    "import os\n",
    "import keras\n",
    "from keras.utils import np_utils\n",
    "from sklearn import preprocessing\n",
    "import numpy as np\n",
    "\n",
    "# 請嘗試設定 GPU：os.environ\n",
    "os.environ[\"CUDA_VISIBLE_DEVICES\"] = \"\""
   ]
  },
  {
   "cell_type": "code",
   "execution_count": 2,
   "metadata": {
    "id": "mD7ScVX24oXF"
   },
   "outputs": [],
   "source": [
    "import tensorflow as tf\n",
    "train, test = tf.keras.datasets.cifar10.load_data()"
   ]
  },
  {
   "cell_type": "code",
   "execution_count": 3,
   "metadata": {
    "id": "cv2Wknx_4oXF"
   },
   "outputs": [],
   "source": [
    "## 資料前處理\n",
    "def preproc_x(x, flatten=True):\n",
    "    if flatten:\n",
    "        x = x.reshape((len(x), -1))\n",
    "        x = preprocessing.MaxAbsScaler().fit_transform(x)\n",
    "    return x\n",
    "\n",
    "def preproc_y(y, num_classes=10):\n",
    "    if y.shape[-1] == 1:\n",
    "        y = np_utils.to_categorical(y, num_classes)\n",
    "    return y   "
   ]
  },
  {
   "cell_type": "code",
   "execution_count": 4,
   "metadata": {
    "id": "zp2WdT4d4oXF"
   },
   "outputs": [],
   "source": [
    "\n",
    "x_train, y_train = train\n",
    "x_test, y_test = test\n",
    "\n",
    "# Preproc the inputs\n",
    "x_train = preproc_x(x_train)\n",
    "x_test = preproc_x(x_test)\n",
    "\n",
    "# Preprc the outputs\n",
    "y_train = preproc_y(y_train)\n",
    "y_test = preproc_y(y_test)"
   ]
  },
  {
   "cell_type": "code",
   "execution_count": 5,
   "metadata": {
    "id": "KBj2NiDK4oXF"
   },
   "outputs": [
    {
     "name": "stdout",
     "output_type": "stream",
     "text": [
      "Model: \"model\"\n",
      "_________________________________________________________________\n",
      "Layer (type)                 Output Shape              Param #   \n",
      "=================================================================\n",
      "input_1 (InputLayer)         [(None, 3072)]            0         \n",
      "_________________________________________________________________\n",
      "hidden_layer1 (Dense)        (None, 512)               1573376   \n",
      "_________________________________________________________________\n",
      "hidden_layer2 (Dense)        (None, 256)               131328    \n",
      "_________________________________________________________________\n",
      "hidden_layer3 (Dense)        (None, 128)               32896     \n",
      "_________________________________________________________________\n",
      "hidden_layer4 (Dense)        (None, 64)                8256      \n",
      "_________________________________________________________________\n",
      "hidden_layer5 (Dense)        (None, 64)                4160      \n",
      "_________________________________________________________________\n",
      "output (Dense)               (None, 10)                650       \n",
      "=================================================================\n",
      "Total params: 1,750,666\n",
      "Trainable params: 1,750,666\n",
      "Non-trainable params: 0\n",
      "_________________________________________________________________\n"
     ]
    }
   ],
   "source": [
    "\"\"\"Code Here\n",
    "建立你的神經網路\n",
    "\"\"\"\n",
    "def build_mlp(input_shape, output_units=10, num_neurons=[512, 256, 128, 64, 64]):\n",
    "    input_layer = keras.layers.Input(input_shape)\n",
    "    \n",
    "    for i, n_units in enumerate(num_neurons):\n",
    "        if i == 0:\n",
    "            x = keras.layers.Dense(units=n_units, activation=\"relu\", name=\"hidden_layer\"+str(i+1))(input_layer)\n",
    "        else:\n",
    "            x = keras.layers.Dense(units=n_units, activation=\"relu\", name=\"hidden_layer\"+str(i+1))(x)\n",
    "    \n",
    "    out = keras.layers.Dense(units=output_units, activation=\"softmax\", name=\"output\")(x)\n",
    "    \n",
    "    model = keras.models.Model(inputs=[input_layer], outputs=[out])\n",
    "    return model\n",
    "\n",
    "model = build_mlp(input_shape=x_train.shape[1:])\n",
    "model.summary()"
   ]
  },
  {
   "cell_type": "code",
   "execution_count": 6,
   "metadata": {
    "id": "uejU37q-4oXF"
   },
   "outputs": [],
   "source": [
    "## 超參數設定\n",
    "LEARNING_RATE = 0.001\n",
    "EPOCHS = 100\n",
    "BATCH_SIZE = 256"
   ]
  },
  {
   "cell_type": "code",
   "execution_count": 7,
   "metadata": {
    "id": "FePHihT34oXG"
   },
   "outputs": [
    {
     "name": "stderr",
     "output_type": "stream",
     "text": [
      "C:\\Users\\rouhui\\anaconda3\\lib\\site-packages\\keras\\optimizer_v2\\optimizer_v2.py:355: UserWarning: The `lr` argument is deprecated, use `learning_rate` instead.\n",
      "  warnings.warn(\n"
     ]
    }
   ],
   "source": [
    "optimizer = tf.keras.optimizers.Adam(lr=LEARNING_RATE)\n",
    "model.compile(loss=\"categorical_crossentropy\", metrics=[\"accuracy\"], optimizer=optimizer)"
   ]
  },
  {
   "cell_type": "code",
   "execution_count": 8,
   "metadata": {
    "id": "LmLgZXCQ4oXG",
    "outputId": "cb609889-f8fe-47e8-b64c-27db5202b5e5"
   },
   "outputs": [
    {
     "name": "stdout",
     "output_type": "stream",
     "text": [
      "Epoch 1/100\n",
      "196/196 [==============================] - 4s 18ms/step - loss: 1.9594 - accuracy: 0.2753 - val_loss: 1.8144 - val_accuracy: 0.3365\n",
      "Epoch 2/100\n",
      "196/196 [==============================] - 3s 17ms/step - loss: 1.7441 - accuracy: 0.3673 - val_loss: 1.6699 - val_accuracy: 0.4036\n",
      "Epoch 3/100\n",
      "196/196 [==============================] - 3s 16ms/step - loss: 1.6478 - accuracy: 0.4078 - val_loss: 1.5951 - val_accuracy: 0.4300\n",
      "Epoch 4/100\n",
      "196/196 [==============================] - 3s 16ms/step - loss: 1.5841 - accuracy: 0.4307 - val_loss: 1.5412 - val_accuracy: 0.4489\n",
      "Epoch 5/100\n",
      "196/196 [==============================] - 4s 19ms/step - loss: 1.5421 - accuracy: 0.4469 - val_loss: 1.5210 - val_accuracy: 0.4580\n",
      "Epoch 6/100\n",
      "196/196 [==============================] - 4s 21ms/step - loss: 1.4967 - accuracy: 0.4651 - val_loss: 1.4862 - val_accuracy: 0.4685\n",
      "Epoch 7/100\n",
      "196/196 [==============================] - 4s 20ms/step - loss: 1.4649 - accuracy: 0.4735 - val_loss: 1.4831 - val_accuracy: 0.4696\n",
      "Epoch 8/100\n",
      "196/196 [==============================] - 4s 20ms/step - loss: 1.4304 - accuracy: 0.4893 - val_loss: 1.4699 - val_accuracy: 0.4710\n",
      "Epoch 9/100\n",
      "196/196 [==============================] - 4s 20ms/step - loss: 1.4048 - accuracy: 0.4974 - val_loss: 1.4415 - val_accuracy: 0.4883\n",
      "Epoch 10/100\n",
      "196/196 [==============================] - 4s 20ms/step - loss: 1.3731 - accuracy: 0.5097 - val_loss: 1.4288 - val_accuracy: 0.4953\n",
      "Epoch 11/100\n",
      "196/196 [==============================] - 4s 21ms/step - loss: 1.3519 - accuracy: 0.5174 - val_loss: 1.4026 - val_accuracy: 0.5017\n",
      "Epoch 12/100\n",
      "196/196 [==============================] - 4s 21ms/step - loss: 1.3270 - accuracy: 0.5248 - val_loss: 1.4191 - val_accuracy: 0.4929\n",
      "Epoch 13/100\n",
      "196/196 [==============================] - 4s 20ms/step - loss: 1.3006 - accuracy: 0.5344 - val_loss: 1.4830 - val_accuracy: 0.4806\n",
      "Epoch 14/100\n",
      "196/196 [==============================] - 4s 20ms/step - loss: 1.2790 - accuracy: 0.5429 - val_loss: 1.3925 - val_accuracy: 0.5013\n",
      "Epoch 15/100\n",
      "196/196 [==============================] - 4s 20ms/step - loss: 1.2551 - accuracy: 0.5503 - val_loss: 1.4023 - val_accuracy: 0.5052\n",
      "Epoch 16/100\n",
      "196/196 [==============================] - 4s 20ms/step - loss: 1.2437 - accuracy: 0.5541 - val_loss: 1.4119 - val_accuracy: 0.5078\n",
      "Epoch 17/100\n",
      "196/196 [==============================] - 4s 20ms/step - loss: 1.2159 - accuracy: 0.5654 - val_loss: 1.4307 - val_accuracy: 0.5011\n",
      "Epoch 18/100\n",
      "196/196 [==============================] - 4s 20ms/step - loss: 1.1941 - accuracy: 0.5730 - val_loss: 1.4389 - val_accuracy: 0.5011\n",
      "Epoch 19/100\n",
      "196/196 [==============================] - 4s 20ms/step - loss: 1.1883 - accuracy: 0.5750 - val_loss: 1.3766 - val_accuracy: 0.5192\n",
      "Epoch 20/100\n",
      "196/196 [==============================] - 4s 21ms/step - loss: 1.1575 - accuracy: 0.5810 - val_loss: 1.3571 - val_accuracy: 0.5251\n",
      "Epoch 21/100\n",
      "196/196 [==============================] - 4s 20ms/step - loss: 1.1437 - accuracy: 0.5890 - val_loss: 1.3962 - val_accuracy: 0.5169\n",
      "Epoch 22/100\n",
      "196/196 [==============================] - 4s 20ms/step - loss: 1.1252 - accuracy: 0.5982 - val_loss: 1.3978 - val_accuracy: 0.5157\n",
      "Epoch 23/100\n",
      "196/196 [==============================] - 4s 20ms/step - loss: 1.0957 - accuracy: 0.6061 - val_loss: 1.4121 - val_accuracy: 0.5173\n",
      "Epoch 24/100\n",
      "196/196 [==============================] - 4s 20ms/step - loss: 1.0865 - accuracy: 0.6109 - val_loss: 1.4184 - val_accuracy: 0.5128\n",
      "Epoch 25/100\n",
      "196/196 [==============================] - 4s 20ms/step - loss: 1.0700 - accuracy: 0.6132 - val_loss: 1.4402 - val_accuracy: 0.5104\n",
      "Epoch 26/100\n",
      "196/196 [==============================] - 4s 21ms/step - loss: 1.0563 - accuracy: 0.6197 - val_loss: 1.3988 - val_accuracy: 0.5197\n",
      "Epoch 27/100\n",
      "196/196 [==============================] - 4s 21ms/step - loss: 1.0306 - accuracy: 0.6293 - val_loss: 1.4092 - val_accuracy: 0.5203\n",
      "Epoch 28/100\n",
      "196/196 [==============================] - 4s 20ms/step - loss: 1.0227 - accuracy: 0.6322 - val_loss: 1.4386 - val_accuracy: 0.5133\n",
      "Epoch 29/100\n",
      "196/196 [==============================] - 4s 21ms/step - loss: 1.0018 - accuracy: 0.6398 - val_loss: 1.4141 - val_accuracy: 0.5217\n",
      "Epoch 30/100\n",
      "196/196 [==============================] - 4s 20ms/step - loss: 0.9819 - accuracy: 0.6461 - val_loss: 1.4592 - val_accuracy: 0.5243\n",
      "Epoch 31/100\n",
      "196/196 [==============================] - 4s 20ms/step - loss: 0.9520 - accuracy: 0.6566 - val_loss: 1.4575 - val_accuracy: 0.5281\n",
      "Epoch 32/100\n",
      "196/196 [==============================] - 4s 21ms/step - loss: 0.9387 - accuracy: 0.6623 - val_loss: 1.4608 - val_accuracy: 0.5270\n",
      "Epoch 33/100\n",
      "196/196 [==============================] - 4s 20ms/step - loss: 0.9200 - accuracy: 0.6695 - val_loss: 1.4584 - val_accuracy: 0.5225\n",
      "Epoch 34/100\n",
      "196/196 [==============================] - 4s 20ms/step - loss: 0.9105 - accuracy: 0.6733 - val_loss: 1.4784 - val_accuracy: 0.5242\n",
      "Epoch 35/100\n",
      "196/196 [==============================] - 4s 21ms/step - loss: 0.9009 - accuracy: 0.6758 - val_loss: 1.4893 - val_accuracy: 0.5268\n",
      "Epoch 36/100\n",
      "196/196 [==============================] - 4s 21ms/step - loss: 0.8787 - accuracy: 0.6853 - val_loss: 1.5096 - val_accuracy: 0.5296\n",
      "Epoch 37/100\n",
      "196/196 [==============================] - 4s 21ms/step - loss: 0.8682 - accuracy: 0.6867 - val_loss: 1.5717 - val_accuracy: 0.5134\n",
      "Epoch 38/100\n",
      "196/196 [==============================] - 4s 21ms/step - loss: 0.8558 - accuracy: 0.6916 - val_loss: 1.5356 - val_accuracy: 0.5289\n",
      "Epoch 39/100\n",
      "196/196 [==============================] - 4s 21ms/step - loss: 0.8388 - accuracy: 0.6987 - val_loss: 1.5516 - val_accuracy: 0.5196\n",
      "Epoch 40/100\n",
      "196/196 [==============================] - 4s 21ms/step - loss: 0.8140 - accuracy: 0.7085 - val_loss: 1.5843 - val_accuracy: 0.5248\n",
      "Epoch 41/100\n",
      "196/196 [==============================] - 4s 21ms/step - loss: 0.8050 - accuracy: 0.7106 - val_loss: 1.6069 - val_accuracy: 0.5206\n",
      "Epoch 42/100\n",
      "196/196 [==============================] - 4s 23ms/step - loss: 0.7992 - accuracy: 0.7143 - val_loss: 1.5978 - val_accuracy: 0.5244\n",
      "Epoch 43/100\n",
      "196/196 [==============================] - 5s 27ms/step - loss: 0.7776 - accuracy: 0.7228 - val_loss: 1.6707 - val_accuracy: 0.5142\n",
      "Epoch 44/100\n",
      "196/196 [==============================] - 5s 24ms/step - loss: 0.7592 - accuracy: 0.7268 - val_loss: 1.6356 - val_accuracy: 0.5291\n",
      "Epoch 45/100\n",
      "196/196 [==============================] - 5s 25ms/step - loss: 0.7463 - accuracy: 0.7337 - val_loss: 1.6511 - val_accuracy: 0.5179\n",
      "Epoch 46/100\n",
      "196/196 [==============================] - 4s 22ms/step - loss: 0.7325 - accuracy: 0.7364 - val_loss: 1.7153 - val_accuracy: 0.5140\n",
      "Epoch 47/100\n",
      "196/196 [==============================] - 5s 27ms/step - loss: 0.7192 - accuracy: 0.7410 - val_loss: 1.7705 - val_accuracy: 0.5131\n",
      "Epoch 48/100\n",
      "196/196 [==============================] - 5s 26ms/step - loss: 0.7144 - accuracy: 0.7425 - val_loss: 1.7609 - val_accuracy: 0.5137\n",
      "Epoch 49/100\n",
      "196/196 [==============================] - 5s 25ms/step - loss: 0.7098 - accuracy: 0.7459 - val_loss: 1.7827 - val_accuracy: 0.5181\n",
      "Epoch 50/100\n",
      "196/196 [==============================] - 4s 22ms/step - loss: 0.6722 - accuracy: 0.7581 - val_loss: 1.7550 - val_accuracy: 0.5184\n",
      "Epoch 51/100\n",
      "196/196 [==============================] - 4s 22ms/step - loss: 0.6723 - accuracy: 0.7578 - val_loss: 1.7925 - val_accuracy: 0.5168\n",
      "Epoch 52/100\n",
      "196/196 [==============================] - 4s 23ms/step - loss: 0.6594 - accuracy: 0.7643 - val_loss: 1.8312 - val_accuracy: 0.5125\n",
      "Epoch 53/100\n",
      "196/196 [==============================] - 5s 25ms/step - loss: 0.6553 - accuracy: 0.7633 - val_loss: 1.8376 - val_accuracy: 0.5187\n",
      "Epoch 54/100\n",
      "196/196 [==============================] - 5s 26ms/step - loss: 0.6471 - accuracy: 0.7673 - val_loss: 1.8406 - val_accuracy: 0.5256\n",
      "Epoch 55/100\n",
      "196/196 [==============================] - 5s 25ms/step - loss: 0.6305 - accuracy: 0.7720 - val_loss: 1.9355 - val_accuracy: 0.5151\n",
      "Epoch 56/100\n",
      "196/196 [==============================] - 5s 26ms/step - loss: 0.6184 - accuracy: 0.7767 - val_loss: 1.8647 - val_accuracy: 0.5195\n",
      "Epoch 57/100\n",
      "196/196 [==============================] - 4s 23ms/step - loss: 0.6058 - accuracy: 0.7820 - val_loss: 1.9433 - val_accuracy: 0.5233\n",
      "Epoch 58/100\n",
      "196/196 [==============================] - 4s 22ms/step - loss: 0.5990 - accuracy: 0.7844 - val_loss: 2.0135 - val_accuracy: 0.5177\n",
      "Epoch 59/100\n",
      "196/196 [==============================] - 4s 22ms/step - loss: 0.5847 - accuracy: 0.7896 - val_loss: 1.9837 - val_accuracy: 0.5089\n",
      "Epoch 60/100\n",
      "196/196 [==============================] - 4s 23ms/step - loss: 0.5636 - accuracy: 0.7975 - val_loss: 2.0229 - val_accuracy: 0.5200\n",
      "Epoch 61/100\n",
      "196/196 [==============================] - 4s 22ms/step - loss: 0.5683 - accuracy: 0.7963 - val_loss: 2.0820 - val_accuracy: 0.5188\n",
      "Epoch 62/100\n",
      "196/196 [==============================] - 4s 22ms/step - loss: 0.5799 - accuracy: 0.7888 - val_loss: 2.0449 - val_accuracy: 0.5034\n",
      "Epoch 63/100\n",
      "196/196 [==============================] - 4s 22ms/step - loss: 0.5590 - accuracy: 0.7975 - val_loss: 2.0833 - val_accuracy: 0.5171\n",
      "Epoch 64/100\n",
      "196/196 [==============================] - 4s 22ms/step - loss: 0.5567 - accuracy: 0.7993 - val_loss: 2.1970 - val_accuracy: 0.5021\n",
      "Epoch 65/100\n",
      "196/196 [==============================] - 4s 23ms/step - loss: 0.5309 - accuracy: 0.8100 - val_loss: 2.1882 - val_accuracy: 0.5095\n",
      "Epoch 66/100\n",
      "196/196 [==============================] - 4s 22ms/step - loss: 0.5231 - accuracy: 0.8114 - val_loss: 2.1774 - val_accuracy: 0.5082\n",
      "Epoch 67/100\n",
      "196/196 [==============================] - 4s 21ms/step - loss: 0.5199 - accuracy: 0.8140 - val_loss: 2.3173 - val_accuracy: 0.5099\n",
      "Epoch 68/100\n",
      "196/196 [==============================] - 4s 22ms/step - loss: 0.5041 - accuracy: 0.8190 - val_loss: 2.2868 - val_accuracy: 0.5073\n",
      "Epoch 69/100\n",
      "196/196 [==============================] - 4s 22ms/step - loss: 0.5115 - accuracy: 0.8170 - val_loss: 2.2449 - val_accuracy: 0.5012\n",
      "Epoch 70/100\n",
      "196/196 [==============================] - 4s 22ms/step - loss: 0.5053 - accuracy: 0.8190 - val_loss: 2.3372 - val_accuracy: 0.5062\n",
      "Epoch 71/100\n",
      "196/196 [==============================] - 4s 22ms/step - loss: 0.4844 - accuracy: 0.8249 - val_loss: 2.3543 - val_accuracy: 0.5105\n",
      "Epoch 72/100\n",
      "196/196 [==============================] - 4s 22ms/step - loss: 0.4940 - accuracy: 0.8221 - val_loss: 2.3470 - val_accuracy: 0.5051\n",
      "Epoch 73/100\n",
      "196/196 [==============================] - 4s 22ms/step - loss: 0.4817 - accuracy: 0.8270 - val_loss: 2.4102 - val_accuracy: 0.5088\n",
      "Epoch 74/100\n",
      "196/196 [==============================] - 4s 22ms/step - loss: 0.4755 - accuracy: 0.8297 - val_loss: 2.3676 - val_accuracy: 0.5078\n",
      "Epoch 75/100\n",
      "196/196 [==============================] - 4s 22ms/step - loss: 0.4670 - accuracy: 0.8314 - val_loss: 2.4715 - val_accuracy: 0.4992\n",
      "Epoch 76/100\n",
      "196/196 [==============================] - 4s 22ms/step - loss: 0.4588 - accuracy: 0.8345 - val_loss: 2.4589 - val_accuracy: 0.5105\n",
      "Epoch 77/100\n",
      "196/196 [==============================] - 4s 22ms/step - loss: 0.4471 - accuracy: 0.8390 - val_loss: 2.5532 - val_accuracy: 0.5014\n",
      "Epoch 78/100\n",
      "196/196 [==============================] - 4s 22ms/step - loss: 0.4537 - accuracy: 0.8369 - val_loss: 2.5312 - val_accuracy: 0.5052\n",
      "Epoch 79/100\n",
      "196/196 [==============================] - 4s 22ms/step - loss: 0.4609 - accuracy: 0.8337 - val_loss: 2.5403 - val_accuracy: 0.5013\n",
      "Epoch 80/100\n",
      "196/196 [==============================] - 4s 22ms/step - loss: 0.4377 - accuracy: 0.8430 - val_loss: 2.4323 - val_accuracy: 0.5124\n",
      "Epoch 81/100\n",
      "196/196 [==============================] - 4s 22ms/step - loss: 0.4350 - accuracy: 0.8418 - val_loss: 2.5668 - val_accuracy: 0.4955\n",
      "Epoch 82/100\n",
      "196/196 [==============================] - 4s 22ms/step - loss: 0.4333 - accuracy: 0.8439 - val_loss: 2.5042 - val_accuracy: 0.5003\n",
      "Epoch 83/100\n",
      "196/196 [==============================] - 4s 22ms/step - loss: 0.4487 - accuracy: 0.8365 - val_loss: 2.5978 - val_accuracy: 0.5102\n",
      "Epoch 84/100\n",
      "196/196 [==============================] - 4s 21ms/step - loss: 0.4055 - accuracy: 0.8541 - val_loss: 2.7213 - val_accuracy: 0.5070\n",
      "Epoch 85/100\n",
      "196/196 [==============================] - 4s 22ms/step - loss: 0.4245 - accuracy: 0.8457 - val_loss: 2.5843 - val_accuracy: 0.5005\n",
      "Epoch 86/100\n",
      "196/196 [==============================] - 4s 22ms/step - loss: 0.3961 - accuracy: 0.8576 - val_loss: 2.6928 - val_accuracy: 0.5088\n",
      "Epoch 87/100\n",
      "196/196 [==============================] - 4s 22ms/step - loss: 0.4007 - accuracy: 0.8560 - val_loss: 2.8780 - val_accuracy: 0.5021\n",
      "Epoch 88/100\n",
      "196/196 [==============================] - 4s 22ms/step - loss: 0.4105 - accuracy: 0.8523 - val_loss: 2.7749 - val_accuracy: 0.5164\n",
      "Epoch 89/100\n",
      "196/196 [==============================] - 4s 23ms/step - loss: 0.3957 - accuracy: 0.8576 - val_loss: 2.8568 - val_accuracy: 0.5075\n",
      "Epoch 90/100\n",
      "196/196 [==============================] - 4s 23ms/step - loss: 0.3751 - accuracy: 0.8633 - val_loss: 2.7888 - val_accuracy: 0.4993\n",
      "Epoch 91/100\n",
      "196/196 [==============================] - 4s 22ms/step - loss: 0.3694 - accuracy: 0.8666 - val_loss: 2.9188 - val_accuracy: 0.5040\n",
      "Epoch 92/100\n",
      "196/196 [==============================] - 4s 22ms/step - loss: 0.4055 - accuracy: 0.8541 - val_loss: 2.8351 - val_accuracy: 0.5075\n",
      "Epoch 93/100\n",
      "196/196 [==============================] - 4s 23ms/step - loss: 0.3805 - accuracy: 0.8629 - val_loss: 2.8424 - val_accuracy: 0.5095\n",
      "Epoch 94/100\n",
      "196/196 [==============================] - 4s 22ms/step - loss: 0.3580 - accuracy: 0.8712 - val_loss: 2.9684 - val_accuracy: 0.5033\n",
      "Epoch 95/100\n",
      "196/196 [==============================] - 5s 23ms/step - loss: 0.3632 - accuracy: 0.8708 - val_loss: 3.0177 - val_accuracy: 0.5038\n",
      "Epoch 96/100\n",
      "196/196 [==============================] - 4s 23ms/step - loss: 0.3720 - accuracy: 0.8667 - val_loss: 2.9992 - val_accuracy: 0.5069\n",
      "Epoch 97/100\n",
      "196/196 [==============================] - 4s 22ms/step - loss: 0.3648 - accuracy: 0.8685 - val_loss: 3.0086 - val_accuracy: 0.5032\n",
      "Epoch 98/100\n",
      "196/196 [==============================] - 4s 23ms/step - loss: 0.3651 - accuracy: 0.8686 - val_loss: 2.9752 - val_accuracy: 0.5064\n",
      "Epoch 99/100\n",
      "196/196 [==============================] - 4s 22ms/step - loss: 0.3768 - accuracy: 0.8645 - val_loss: 2.9655 - val_accuracy: 0.5031\n",
      "Epoch 100/100\n",
      "196/196 [==============================] - 4s 22ms/step - loss: 0.3565 - accuracy: 0.8735 - val_loss: 2.9566 - val_accuracy: 0.5098\n"
     ]
    },
    {
     "data": {
      "text/plain": [
       "<keras.callbacks.History at 0x242d694f5e0>"
      ]
     },
     "execution_count": 8,
     "metadata": {},
     "output_type": "execute_result"
    }
   ],
   "source": [
    "model.fit(x_train, y_train, \n",
    "          epochs=EPOCHS, \n",
    "          batch_size=BATCH_SIZE, \n",
    "          validation_data=(x_test, y_test), \n",
    "          shuffle=True)"
   ]
  },
  {
   "cell_type": "code",
   "execution_count": 9,
   "metadata": {
    "id": "jThDeFlL4oXG",
    "outputId": "c8f6a381-da51-4682-8b02-fd9a0733007c"
   },
   "outputs": [
    {
     "data": {
      "image/png": "[encoded data removed]",
      "text/plain": [
       "<Figure size 432x288 with 1 Axes>"
      ]
     },
     "metadata": {
      "needs_background": "light"
     },
     "output_type": "display_data"
    },
    {
     "data": {
      "image/png": "[encoded data removed]",
      "text/plain": [
       "<Figure size 432x288 with 1 Axes>"
      ]
     },
     "metadata": {
      "needs_background": "light"
     },
     "output_type": "display_data"
    }
   ],
   "source": [
    "import matplotlib.pyplot as plt\n",
    "\n",
    "\n",
    "train_loss = model.history.history[\"loss\"]\n",
    "valid_loss = model.history.history[\"val_loss\"]\n",
    "\n",
    "train_acc = model.history.history[\"accuracy\"]\n",
    "valid_acc = model.history.history[\"val_accuracy\"]\n",
    "\n",
    "plt.plot(range(len(train_loss)), train_loss, label=\"train loss\")\n",
    "plt.plot(range(len(valid_loss)), valid_loss, label=\"valid loss\")\n",
    "plt.legend()\n",
    "plt.title(\"Loss\")\n",
    "plt.show()\n",
    "\n",
    "plt.plot(range(len(train_acc)), train_acc, label=\"train accuracy\")\n",
    "plt.plot(range(len(valid_acc)), valid_acc, label=\"valid accuracy\")\n",
    "plt.legend()\n",
    "plt.title(\"Accuracy\")\n",
    "plt.show()"
   ]
  }
 ],
 "metadata": {
  "colab": {
   "name": "Day078_CheckBeforeTrain_作業 (更新).ipynb",
   "provenance": []
  },
  "kernelspec": {
   "display_name": "Python 3",
   "language": "python",
   "name": "python3"
  },
  "language_info": {
   "codemirror_mode": {
    "name": "ipython",
    "version": 3
   },
   "file_extension": ".py",
   "mimetype": "text/x-python",
   "name": "python",
   "nbconvert_exporter": "python",
   "pygments_lexer": "ipython3",
   "version": "3.8.8"
  }
 },
 "nbformat": 4,
 "nbformat_minor": 1
}
