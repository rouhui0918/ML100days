{
 "cells": [
  {
   "cell_type": "markdown",
   "metadata": {},
   "source": [
    "## Work\n",
    "1. 試比較 save_best_only 與否的差異\n",
    "2. 請僅存入將 save_weights_only 設定為 True, 並嘗試 reset ipynb 並將模型與權重重新建回並預測 x_test"
   ]
  },
  {
   "cell_type": "code",
   "execution_count": 1,
   "metadata": {},
   "outputs": [],
   "source": [
    "import os\n",
    "import keras\n",
    "import matplotlib.pyplot as plt\n",
    "import tensorflow as tf\n",
    "from keras.utils import np_utils\n",
    "\n",
    "# Disable GPU\n",
    "os.environ[\"CUDA_VISIBLE_DEVICES\"] = \"\""
   ]
  },
  {
   "cell_type": "code",
   "execution_count": 2,
   "metadata": {},
   "outputs": [],
   "source": [
    "train, test = tf.keras.datasets.cifar10.load_data()"
   ]
  },
  {
   "cell_type": "code",
   "execution_count": 3,
   "metadata": {},
   "outputs": [],
   "source": [
    "## 資料前處理\n",
    "def preproc_x(x, flatten=True):\n",
    "    x = x / 255.\n",
    "    if flatten:\n",
    "        x = x.reshape((len(x), -1))\n",
    "    return x\n",
    "\n",
    "def preproc_y(y, num_classes=10):\n",
    "    if y.shape[-1] == 1:\n",
    "        y = np_utils.to_categorical(y, num_classes)\n",
    "    return y    "
   ]
  },
  {
   "cell_type": "code",
   "execution_count": 4,
   "metadata": {},
   "outputs": [],
   "source": [
    "x_train, y_train = train\n",
    "x_test, y_test = test\n",
    "\n",
    "# Preproc the inputs\n",
    "x_train = preproc_x(x_train)\n",
    "x_test = preproc_x(x_test)\n",
    "\n",
    "# Preprc the outputs\n",
    "y_train = preproc_y(y_train)\n",
    "y_test = preproc_y(y_test)"
   ]
  },
  {
   "cell_type": "code",
   "execution_count": 5,
   "metadata": {},
   "outputs": [],
   "source": [
    "from keras.layers import BatchNormalization\n",
    "\n",
    "\"\"\"\n",
    "建立神經網路，並加入 BN layer\n",
    "\"\"\"\n",
    "def build_mlp(input_shape, output_units=10, num_neurons=[512, 256, 128]):\n",
    "    input_layer = keras.layers.Input(input_shape)\n",
    "    \n",
    "    for i, n_units in enumerate(num_neurons):\n",
    "        if i == 0:\n",
    "            x = keras.layers.Dense(units=n_units, \n",
    "                                   activation=\"relu\", \n",
    "                                   name=\"hidden_layer\"+str(i+1))(input_layer)\n",
    "            x = BatchNormalization()(x)\n",
    "        else:\n",
    "            x = keras.layers.Dense(units=n_units, \n",
    "                                   activation=\"relu\", \n",
    "                                   name=\"hidden_layer\"+str(i+1))(x)\n",
    "            x = BatchNormalization()(x)\n",
    "    \n",
    "    out = keras.layers.Dense(units=output_units, activation=\"softmax\", name=\"output\")(x)\n",
    "    \n",
    "    model = keras.models.Model(inputs=[input_layer], outputs=[out])\n",
    "    return model"
   ]
  },
  {
   "cell_type": "code",
   "execution_count": 6,
   "metadata": {},
   "outputs": [],
   "source": [
    "\"\"\"Code Here\n",
    "設定超參數\n",
    "\"\"\"\n",
    "LEARNING_RATE = 1e-3\n",
    "EPOCHS = 50\n",
    "BATCH_SIZE = 1024\n",
    "MOMENTUM = 0.95"
   ]
  },
  {
   "cell_type": "markdown",
   "metadata": {},
   "source": [
    "### 載入 Callbacks, 並將監控目標設為 validation loss, 且只存最佳參數時的模型\n",
    "\n",
    "參數說明：\n",
    "filepath: 儲存模型的路徑與檔名\n",
    "mointor: 以什麼指標作為判斷標準\n",
    "save_best_only: 是否只要儲存最好的"
   ]
  },
  {
   "cell_type": "code",
   "execution_count": 7,
   "metadata": {},
   "outputs": [],
   "source": [
    "# 載入 Callbacks\n",
    "\"\"\"Code Here\n",
    "設定 callbacks: model checkpoint\n",
    "\"\"\"\n",
    "from keras.callbacks import ModelCheckpoint\n",
    "\n",
    "model_ckpt = ModelCheckpoint(filepath=\"C:/Users/rouhui/Documents/GitHub/ML100days/homework/HW86_checkPoint/tmp.h5\", \n",
    "                             monitor=\"val_loss\", \n",
    "                             save_best_only=True)\n"
   ]
  },
  {
   "cell_type": "code",
   "execution_count": 8,
   "metadata": {},
   "outputs": [
    {
     "name": "stdout",
     "output_type": "stream",
     "text": [
      "Model: \"model\"\n",
      "_________________________________________________________________\n",
      "Layer (type)                 Output Shape              Param #   \n",
      "=================================================================\n",
      "input_1 (InputLayer)         [(None, 3072)]            0         \n",
      "_________________________________________________________________\n",
      "hidden_layer1 (Dense)        (None, 512)               1573376   \n",
      "_________________________________________________________________\n",
      "batch_normalization (BatchNo (None, 512)               2048      \n",
      "_________________________________________________________________\n",
      "hidden_layer2 (Dense)        (None, 256)               131328    \n",
      "_________________________________________________________________\n",
      "batch_normalization_1 (Batch (None, 256)               1024      \n",
      "_________________________________________________________________\n",
      "hidden_layer3 (Dense)        (None, 128)               32896     \n",
      "_________________________________________________________________\n",
      "batch_normalization_2 (Batch (None, 128)               512       \n",
      "_________________________________________________________________\n",
      "output (Dense)               (None, 10)                1290      \n",
      "=================================================================\n",
      "Total params: 1,742,474\n",
      "Trainable params: 1,740,682\n",
      "Non-trainable params: 1,792\n",
      "_________________________________________________________________\n"
     ]
    },
    {
     "name": "stderr",
     "output_type": "stream",
     "text": [
      "C:\\Users\\rouhui\\anaconda3\\lib\\site-packages\\keras\\optimizer_v2\\optimizer_v2.py:355: UserWarning: The `lr` argument is deprecated, use `learning_rate` instead.\n",
      "  warnings.warn(\n"
     ]
    },
    {
     "name": "stdout",
     "output_type": "stream",
     "text": [
      "Epoch 1/50\n",
      "49/49 [==============================] - 4s 59ms/step - loss: 2.2255 - accuracy: 0.2654 - val_loss: 2.1016 - val_accuracy: 0.2271\n",
      "Epoch 2/50\n",
      "49/49 [==============================] - 3s 53ms/step - loss: 1.7527 - accuracy: 0.3870 - val_loss: 1.9623 - val_accuracy: 0.3094\n",
      "Epoch 3/50\n",
      "49/49 [==============================] - 3s 57ms/step - loss: 1.6220 - accuracy: 0.4313 - val_loss: 1.8222 - val_accuracy: 0.3665\n",
      "Epoch 4/50\n",
      "49/49 [==============================] - 3s 53ms/step - loss: 1.5431 - accuracy: 0.4590 - val_loss: 1.7335 - val_accuracy: 0.3984\n",
      "Epoch 5/50\n",
      "49/49 [==============================] - 3s 69ms/step - loss: 1.4871 - accuracy: 0.4800 - val_loss: 1.6335 - val_accuracy: 0.4309\n",
      "Epoch 6/50\n",
      "49/49 [==============================] - 4s 87ms/step - loss: 1.4413 - accuracy: 0.4952 - val_loss: 1.6052 - val_accuracy: 0.4315\n",
      "Epoch 7/50\n",
      "49/49 [==============================] - 4s 86ms/step - loss: 1.4004 - accuracy: 0.5108 - val_loss: 1.5602 - val_accuracy: 0.4491\n",
      "Epoch 8/50\n",
      "49/49 [==============================] - 4s 79ms/step - loss: 1.3663 - accuracy: 0.5223 - val_loss: 1.5230 - val_accuracy: 0.4625\n",
      "Epoch 9/50\n",
      "49/49 [==============================] - 4s 72ms/step - loss: 1.3323 - accuracy: 0.5356 - val_loss: 1.5058 - val_accuracy: 0.4675\n",
      "Epoch 10/50\n",
      "49/49 [==============================] - 4s 74ms/step - loss: 1.3026 - accuracy: 0.5464 - val_loss: 1.4958 - val_accuracy: 0.4691\n",
      "Epoch 11/50\n",
      "49/49 [==============================] - 4s 73ms/step - loss: 1.2735 - accuracy: 0.5571 - val_loss: 1.4880 - val_accuracy: 0.4747\n",
      "Epoch 12/50\n",
      "49/49 [==============================] - 4s 72ms/step - loss: 1.2455 - accuracy: 0.5675 - val_loss: 1.4870 - val_accuracy: 0.4779\n",
      "Epoch 13/50\n",
      "49/49 [==============================] - 3s 71ms/step - loss: 1.2204 - accuracy: 0.5777 - val_loss: 1.4736 - val_accuracy: 0.4838\n",
      "Epoch 14/50\n",
      "49/49 [==============================] - 4s 77ms/step - loss: 1.1944 - accuracy: 0.5878 - val_loss: 1.4641 - val_accuracy: 0.4847\n",
      "Epoch 15/50\n",
      "49/49 [==============================] - 4s 77ms/step - loss: 1.1729 - accuracy: 0.5965 - val_loss: 1.4667 - val_accuracy: 0.4884\n",
      "Epoch 16/50\n",
      "49/49 [==============================] - 4s 73ms/step - loss: 1.1479 - accuracy: 0.6039 - val_loss: 1.4682 - val_accuracy: 0.4872\n",
      "Epoch 17/50\n",
      "49/49 [==============================] - 4s 72ms/step - loss: 1.1273 - accuracy: 0.6120 - val_loss: 1.4665 - val_accuracy: 0.4869\n",
      "Epoch 18/50\n",
      "49/49 [==============================] - 3s 71ms/step - loss: 1.1038 - accuracy: 0.6226 - val_loss: 1.4662 - val_accuracy: 0.4901\n",
      "Epoch 19/50\n",
      "49/49 [==============================] - 4s 73ms/step - loss: 1.0829 - accuracy: 0.6304 - val_loss: 1.4672 - val_accuracy: 0.4833\n",
      "Epoch 20/50\n",
      "49/49 [==============================] - 4s 74ms/step - loss: 1.0591 - accuracy: 0.6413 - val_loss: 1.4576 - val_accuracy: 0.4934\n",
      "Epoch 21/50\n",
      "49/49 [==============================] - 4s 73ms/step - loss: 1.0371 - accuracy: 0.6502 - val_loss: 1.4610 - val_accuracy: 0.4943\n",
      "Epoch 22/50\n",
      "49/49 [==============================] - 4s 74ms/step - loss: 1.0184 - accuracy: 0.6551 - val_loss: 1.4622 - val_accuracy: 0.4951\n",
      "Epoch 23/50\n",
      "49/49 [==============================] - 4s 79ms/step - loss: 0.9974 - accuracy: 0.6656 - val_loss: 1.4704 - val_accuracy: 0.4917\n",
      "Epoch 24/50\n",
      "49/49 [==============================] - 4s 81ms/step - loss: 0.9788 - accuracy: 0.6715 - val_loss: 1.4524 - val_accuracy: 0.4976\n",
      "Epoch 25/50\n",
      "49/49 [==============================] - 4s 74ms/step - loss: 0.9562 - accuracy: 0.6811 - val_loss: 1.4791 - val_accuracy: 0.4925\n",
      "Epoch 26/50\n",
      "49/49 [==============================] - 4s 72ms/step - loss: 0.9370 - accuracy: 0.6861 - val_loss: 1.4772 - val_accuracy: 0.4935\n",
      "Epoch 27/50\n",
      "49/49 [==============================] - 4s 72ms/step - loss: 0.9177 - accuracy: 0.6948 - val_loss: 1.4673 - val_accuracy: 0.4981\n",
      "Epoch 28/50\n",
      "49/49 [==============================] - 4s 72ms/step - loss: 0.8966 - accuracy: 0.7047 - val_loss: 1.4819 - val_accuracy: 0.4923\n",
      "Epoch 29/50\n",
      "49/49 [==============================] - 4s 72ms/step - loss: 0.8774 - accuracy: 0.7104 - val_loss: 1.4823 - val_accuracy: 0.4970\n",
      "Epoch 30/50\n",
      "49/49 [==============================] - 4s 72ms/step - loss: 0.8581 - accuracy: 0.7187 - val_loss: 1.5025 - val_accuracy: 0.4957\n",
      "Epoch 31/50\n",
      "49/49 [==============================] - 4s 73ms/step - loss: 0.8393 - accuracy: 0.7256 - val_loss: 1.4830 - val_accuracy: 0.4981\n",
      "Epoch 32/50\n",
      "49/49 [==============================] - 3s 72ms/step - loss: 0.8201 - accuracy: 0.7326 - val_loss: 1.4953 - val_accuracy: 0.4997\n",
      "Epoch 33/50\n",
      "49/49 [==============================] - 3s 71ms/step - loss: 0.7987 - accuracy: 0.7422 - val_loss: 1.5107 - val_accuracy: 0.4915\n",
      "Epoch 34/50\n",
      "49/49 [==============================] - 3s 71ms/step - loss: 0.7804 - accuracy: 0.7473 - val_loss: 1.5150 - val_accuracy: 0.4886\n",
      "Epoch 35/50\n",
      "49/49 [==============================] - 4s 77ms/step - loss: 0.7612 - accuracy: 0.7555 - val_loss: 1.5350 - val_accuracy: 0.4901\n",
      "Epoch 36/50\n",
      "49/49 [==============================] - 4s 73ms/step - loss: 0.7417 - accuracy: 0.7617 - val_loss: 1.5368 - val_accuracy: 0.4950\n",
      "Epoch 37/50\n",
      "49/49 [==============================] - 4s 74ms/step - loss: 0.7249 - accuracy: 0.7692 - val_loss: 1.5333 - val_accuracy: 0.4901\n",
      "Epoch 38/50\n",
      "49/49 [==============================] - 4s 73ms/step - loss: 0.7035 - accuracy: 0.7798 - val_loss: 1.5426 - val_accuracy: 0.4946\n",
      "Epoch 39/50\n",
      "49/49 [==============================] - 3s 71ms/step - loss: 0.6868 - accuracy: 0.7863 - val_loss: 1.5702 - val_accuracy: 0.4904\n",
      "Epoch 40/50\n",
      "49/49 [==============================] - 4s 72ms/step - loss: 0.6685 - accuracy: 0.7942 - val_loss: 1.5799 - val_accuracy: 0.4849\n",
      "Epoch 41/50\n",
      "49/49 [==============================] - 4s 72ms/step - loss: 0.6500 - accuracy: 0.7995 - val_loss: 1.5693 - val_accuracy: 0.4967\n",
      "Epoch 42/50\n",
      "49/49 [==============================] - 3s 71ms/step - loss: 0.6341 - accuracy: 0.8053 - val_loss: 1.5771 - val_accuracy: 0.4967\n",
      "Epoch 43/50\n",
      "49/49 [==============================] - 3s 71ms/step - loss: 0.6148 - accuracy: 0.8130 - val_loss: 1.5981 - val_accuracy: 0.4883\n",
      "Epoch 44/50\n",
      "49/49 [==============================] - 3s 71ms/step - loss: 0.5973 - accuracy: 0.8210 - val_loss: 1.6340 - val_accuracy: 0.4865\n",
      "Epoch 45/50\n",
      "49/49 [==============================] - 4s 76ms/step - loss: 0.5810 - accuracy: 0.8279 - val_loss: 1.6072 - val_accuracy: 0.4928\n",
      "Epoch 46/50\n",
      "49/49 [==============================] - 4s 73ms/step - loss: 0.5641 - accuracy: 0.8334 - val_loss: 1.6404 - val_accuracy: 0.4834\n",
      "Epoch 47/50\n",
      "49/49 [==============================] - 4s 72ms/step - loss: 0.5463 - accuracy: 0.8414 - val_loss: 1.6440 - val_accuracy: 0.4893\n",
      "Epoch 48/50\n",
      "49/49 [==============================] - 3s 71ms/step - loss: 0.5316 - accuracy: 0.8469 - val_loss: 1.6579 - val_accuracy: 0.4906\n",
      "Epoch 49/50\n",
      "49/49 [==============================] - 4s 77ms/step - loss: 0.5146 - accuracy: 0.8537 - val_loss: 1.6706 - val_accuracy: 0.4793\n",
      "Epoch 50/50\n",
      "49/49 [==============================] - 4s 76ms/step - loss: 0.4994 - accuracy: 0.8585 - val_loss: 1.6855 - val_accuracy: 0.4882\n",
      "313/313 [==============================] - 1s 3ms/step - loss: 1.4524 - accuracy: 0.4976\n"
     ]
    }
   ],
   "source": [
    "model = build_mlp(input_shape=x_train.shape[1:])\n",
    "model.summary()\n",
    "optimizer = tf.keras.optimizers.SGD(lr=LEARNING_RATE, nesterov=True, momentum=MOMENTUM)\n",
    "model.compile(loss=\"categorical_crossentropy\", metrics=[\"accuracy\"], optimizer=optimizer)\n",
    "\n",
    "model.fit(x_train, y_train, \n",
    "          epochs=EPOCHS, \n",
    "          batch_size=BATCH_SIZE, \n",
    "          validation_data=(x_test, y_test), \n",
    "          shuffle=True,\n",
    "          callbacks=[model_ckpt]\n",
    "         )\n",
    "\n",
    "# Collect results\n",
    "train_loss = model.history.history[\"loss\"]\n",
    "valid_loss = model.history.history[\"val_loss\"]\n",
    "train_acc = model.history.history[\"accuracy\"]\n",
    "valid_acc = model.history.history[\"val_accuracy\"]\n",
    "\n",
    "pred_final = model.predict(x_test)\n",
    "\n",
    "# Load back\n",
    "model = keras.models.load_model(\"C:/Users/rouhui/Documents/GitHub/ML100days/homework/HW86_checkPoint/tmp.h5\")\n",
    "loss_loadback, acc_loadback = model.evaluate(x_test, y_test)"
   ]
  },
  {
   "cell_type": "code",
   "execution_count": 9,
   "metadata": {
    "scrolled": true
   },
   "outputs": [
    {
     "data": {
      "image/png": "[encoded data removed]",
      "text/plain": [
       "<Figure size 432x288 with 1 Axes>"
      ]
     },
     "metadata": {
      "needs_background": "light"
     },
     "output_type": "display_data"
    },
    {
     "data": {
      "image/png": "[encoded data removed]",
      "text/plain": [
       "<Figure size 432x288 with 1 Axes>"
      ]
     },
     "metadata": {
      "needs_background": "light"
     },
     "output_type": "display_data"
    }
   ],
   "source": [
    "import matplotlib.pyplot as plt\n",
    "%matplotlib inline\n",
    "\"\"\"Code Here\n",
    "將結果繪出\n",
    "\"\"\"\n",
    "\n",
    "\n",
    "plt.plot(range(len(train_loss)), train_loss, label=\"train loss\")\n",
    "plt.plot(range(len(valid_loss)), valid_loss, label=\"valid loss\")\n",
    "plt.hlines(y=loss_loadback, xmin=0, xmax=len(train_loss), colors='r', linestyles='--')\n",
    "plt.legend()\n",
    "plt.title(\"Loss\")\n",
    "plt.show()\n",
    "\n",
    "plt.plot(range(len(train_acc)), train_acc, label=\"train accuracy\")\n",
    "plt.plot(range(len(valid_acc)), valid_acc, label=\"valid accuracy\")\n",
    "plt.hlines(y=acc_loadback, xmin=0, xmax=len(train_loss), colors='r', linestyles='--')\n",
    "plt.legend()\n",
    "plt.title(\"Accuracy\")\n",
    "plt.show()"
   ]
  },
  {
   "cell_type": "code",
   "execution_count": 10,
   "metadata": {},
   "outputs": [
    {
     "name": "stdout",
     "output_type": "stream",
     "text": [
      "Accuracy of final weights: 0.488\n",
      "Accuracy of best weights: 0.498\n"
     ]
    }
   ],
   "source": [
    "pred_loadback = model.predict(x_test)\n",
    "\n",
    "from sklearn.metrics import accuracy_score\n",
    "\n",
    "final_model_acc = accuracy_score(y_true=y_test.argmax(axis=-1), y_pred=pred_final.argmax(axis=-1))\n",
    "loadback_acc = accuracy_score(y_true=y_test.argmax(axis=-1), y_pred=pred_loadback.argmax(axis=-1))\n",
    "\n",
    "print(\"Accuracy of final weights: %.3f\" % final_model_acc)\n",
    "print(\"Accuracy of best weights: %.3f\" % loadback_acc)"
   ]
  },
  {
   "cell_type": "code",
   "execution_count": 13,
   "metadata": {},
   "outputs": [
    {
     "name": "stdout",
     "output_type": "stream",
     "text": [
      "Accuracy of best weights: 0.117\n",
      "Accuracy of best weights: 0.498\n"
     ]
    }
   ],
   "source": [
    "new_model = build_mlp(input_shape=x_train.shape[1:])\n",
    "new_model_pred = new_model.predict(x_test)\n",
    "new_model_acc = accuracy_score(y_true=y_test.argmax(axis=-1), y_pred=new_model_pred.argmax(axis=-1))\n",
    "print(\"Accuracy of best weights: %.3f\" % new_model_acc)\n",
    "\n",
    "new_model.load_weights(\"C:/Users/rouhui/Documents/GitHub/ML100days/homework/HW86_checkPoint/tmp.h5\")\n",
    "new_model_pred = new_model.predict(x_test)\n",
    "new_model_loadback_acc = accuracy_score(y_true=y_test.argmax(axis=-1), y_pred=new_model_pred.argmax(axis=-1))\n",
    "print(\"Accuracy of best weights: %.3f\" % new_model_loadback_acc)"
   ]
  }
 ],
 "metadata": {
  "kernelspec": {
   "display_name": "Python 3",
   "language": "python",
   "name": "python3"
  },
  "language_info": {
   "codemirror_mode": {
    "name": "ipython",
    "version": 3
   },
   "file_extension": ".py",
   "mimetype": "text/x-python",
   "name": "python",
   "nbconvert_exporter": "python",
   "pygments_lexer": "ipython3",
   "version": "3.8.8"
  }
 },
 "nbformat": 4,
 "nbformat_minor": 2
}
