{
 "cells": [
  {
   "cell_type": "markdown",
   "metadata": {},
   "source": [
    "## Work\n",
    "1. 試改變 monitor \"Validation Accuracy\" 並比較結果\n",
    "2. 調整 earlystop 的等待次數至 10, 25 並比較結果"
   ]
  },
  {
   "cell_type": "code",
   "execution_count": 1,
   "metadata": {},
   "outputs": [],
   "source": [
    "import os\n",
    "import keras\n",
    "import matplotlib.pyplot as plt\n",
    "import tensorflow as tf\n",
    "from keras.utils import np_utils\n",
    "%matplotlib inline\n",
    "\n",
    "\n",
    "# Disable GPU\n",
    "os.environ[\"CUDA_VISIBLE_DEVICES\"] = \"\""
   ]
  },
  {
   "cell_type": "code",
   "execution_count": 2,
   "metadata": {},
   "outputs": [],
   "source": [
    "train, test = tf.keras.datasets.cifar10.load_data()"
   ]
  },
  {
   "cell_type": "code",
   "execution_count": 3,
   "metadata": {},
   "outputs": [],
   "source": [
    "## 資料前處理\n",
    "def preproc_x(x, flatten=True):\n",
    "    x = x / 255.\n",
    "    if flatten:\n",
    "        x = x.reshape((len(x), -1))\n",
    "    return x\n",
    "\n",
    "def preproc_y(y, num_classes=10):\n",
    "    if y.shape[-1] == 1:\n",
    "        y = np_utils.to_categorical(y, num_classes)\n",
    "    return y    "
   ]
  },
  {
   "cell_type": "code",
   "execution_count": 4,
   "metadata": {},
   "outputs": [],
   "source": [
    "x_train, y_train = train\n",
    "x_test, y_test = test\n",
    "\n",
    "# Preproc the inputs\n",
    "x_train = preproc_x(x_train)\n",
    "x_test = preproc_x(x_test)\n",
    "\n",
    "# Preprc the outputs\n",
    "y_train = preproc_y(y_train)\n",
    "y_test = preproc_y(y_test)"
   ]
  },
  {
   "cell_type": "code",
   "execution_count": 5,
   "metadata": {},
   "outputs": [],
   "source": [
    "from keras.layers import BatchNormalization\n",
    "\n",
    "\"\"\"\n",
    "建立神經網路，並加入 BN layer\n",
    "\"\"\"\n",
    "def build_mlp(input_shape, output_units=10, num_neurons=[512, 256, 128]):\n",
    "    input_layer = keras.layers.Input(input_shape)\n",
    "    \n",
    "    for i, n_units in enumerate(num_neurons):\n",
    "        if i == 0:\n",
    "            x = keras.layers.Dense(units=n_units, \n",
    "                                   activation=\"relu\", \n",
    "                                   name=\"hidden_layer\"+str(i+1))(input_layer)\n",
    "            x = BatchNormalization()(x)\n",
    "        else:\n",
    "            x = keras.layers.Dense(units=n_units, \n",
    "                                   activation=\"relu\", \n",
    "                                   name=\"hidden_layer\"+str(i+1))(x)\n",
    "            x = BatchNormalization()(x)\n",
    "    \n",
    "    out = keras.layers.Dense(units=output_units, activation=\"softmax\", name=\"output\")(x)\n",
    "    \n",
    "    model = keras.models.Model(inputs=[input_layer], outputs=[out])\n",
    "    return model"
   ]
  },
  {
   "cell_type": "code",
   "execution_count": 6,
   "metadata": {},
   "outputs": [],
   "source": [
    "\"\"\"Code Here\n",
    "設定超參數\n",
    "\"\"\"\n",
    "## 超參數設定\n",
    "LEARNING_RATE = 1e-3\n",
    "EPOCHS = 50\n",
    "BATCH_SIZE = 1024\n",
    "MOMENTUM = 0.95"
   ]
  },
  {
   "cell_type": "markdown",
   "metadata": {},
   "source": [
    "載入 Callbacks, 並將 monitor 設定為監控 Validation Accuracy\n",
    "\n",
    "參數說明：\n",
    "patience: 經過多少epochs後仍然沒有改善模型效能時停止訓練。\n",
    "verbose: 運作狀況\n",
    "\n",
    "使用說明：先定義出 Early stopping 的規則，再放入模型訓練中。"
   ]
  },
  {
   "cell_type": "markdown",
   "metadata": {},
   "source": [
    "# earlystop 的等待次數 = 10"
   ]
  },
  {
   "cell_type": "code",
   "execution_count": 7,
   "metadata": {},
   "outputs": [],
   "source": [
    "# 載入 Callbacks\n",
    "\"\"\"Code Here\n",
    "設定 callbacks: Earlystop\n",
    "\"\"\"\n",
    "from keras.callbacks import EarlyStopping\n",
    "\n",
    "earlystop = EarlyStopping(monitor=\"val_accuracy\", \n",
    "                          patience=10, \n",
    "                          verbose=1\n",
    "                          )"
   ]
  },
  {
   "cell_type": "code",
   "execution_count": 8,
   "metadata": {},
   "outputs": [
    {
     "name": "stdout",
     "output_type": "stream",
     "text": [
      "Model: \"model\"\n",
      "_________________________________________________________________\n",
      "Layer (type)                 Output Shape              Param #   \n",
      "=================================================================\n",
      "input_1 (InputLayer)         [(None, 3072)]            0         \n",
      "_________________________________________________________________\n",
      "hidden_layer1 (Dense)        (None, 512)               1573376   \n",
      "_________________________________________________________________\n",
      "batch_normalization (BatchNo (None, 512)               2048      \n",
      "_________________________________________________________________\n",
      "hidden_layer2 (Dense)        (None, 256)               131328    \n",
      "_________________________________________________________________\n",
      "batch_normalization_1 (Batch (None, 256)               1024      \n",
      "_________________________________________________________________\n",
      "hidden_layer3 (Dense)        (None, 128)               32896     \n",
      "_________________________________________________________________\n",
      "batch_normalization_2 (Batch (None, 128)               512       \n",
      "_________________________________________________________________\n",
      "output (Dense)               (None, 10)                1290      \n",
      "=================================================================\n",
      "Total params: 1,742,474\n",
      "Trainable params: 1,740,682\n",
      "Non-trainable params: 1,792\n",
      "_________________________________________________________________\n"
     ]
    },
    {
     "name": "stderr",
     "output_type": "stream",
     "text": [
      "C:\\Users\\rouhui\\anaconda3\\lib\\site-packages\\keras\\optimizer_v2\\optimizer_v2.py:355: UserWarning: The `lr` argument is deprecated, use `learning_rate` instead.\n",
      "  warnings.warn(\n"
     ]
    },
    {
     "name": "stdout",
     "output_type": "stream",
     "text": [
      "Epoch 1/50\n",
      "49/49 [==============================] - 4s 60ms/step - loss: 2.2240 - accuracy: 0.2664 - val_loss: 2.1694 - val_accuracy: 0.1603\n",
      "Epoch 2/50\n",
      "49/49 [==============================] - 3s 55ms/step - loss: 1.7389 - accuracy: 0.3925 - val_loss: 1.9742 - val_accuracy: 0.2803\n",
      "Epoch 3/50\n",
      "49/49 [==============================] - 3s 52ms/step - loss: 1.6148 - accuracy: 0.4363 - val_loss: 1.8165 - val_accuracy: 0.3655\n",
      "Epoch 4/50\n",
      "49/49 [==============================] - 3s 52ms/step - loss: 1.5410 - accuracy: 0.4610 - val_loss: 1.7110 - val_accuracy: 0.4065\n",
      "Epoch 5/50\n",
      "49/49 [==============================] - 3s 53ms/step - loss: 1.4882 - accuracy: 0.4798 - val_loss: 1.6481 - val_accuracy: 0.4202\n",
      "Epoch 6/50\n",
      "49/49 [==============================] - 3s 53ms/step - loss: 1.4443 - accuracy: 0.4952 - val_loss: 1.5697 - val_accuracy: 0.4494\n",
      "Epoch 7/50\n",
      "49/49 [==============================] - 3s 54ms/step - loss: 1.4042 - accuracy: 0.5103 - val_loss: 1.5360 - val_accuracy: 0.4574\n",
      "Epoch 8/50\n",
      "49/49 [==============================] - 3s 54ms/step - loss: 1.3691 - accuracy: 0.5216 - val_loss: 1.5281 - val_accuracy: 0.4548\n",
      "Epoch 9/50\n",
      "49/49 [==============================] - 3s 55ms/step - loss: 1.3367 - accuracy: 0.5351 - val_loss: 1.4992 - val_accuracy: 0.4653\n",
      "Epoch 10/50\n",
      "49/49 [==============================] - 3s 56ms/step - loss: 1.3068 - accuracy: 0.5450 - val_loss: 1.4848 - val_accuracy: 0.4755\n",
      "Epoch 11/50\n",
      "49/49 [==============================] - 3s 56ms/step - loss: 1.2772 - accuracy: 0.5580 - val_loss: 1.4715 - val_accuracy: 0.4809\n",
      "Epoch 12/50\n",
      "49/49 [==============================] - 3s 56ms/step - loss: 1.2522 - accuracy: 0.5661 - val_loss: 1.4707 - val_accuracy: 0.4800\n",
      "Epoch 13/50\n",
      "49/49 [==============================] - 3s 56ms/step - loss: 1.2243 - accuracy: 0.5776 - val_loss: 1.4572 - val_accuracy: 0.4800\n",
      "Epoch 14/50\n",
      "49/49 [==============================] - 3s 58ms/step - loss: 1.2005 - accuracy: 0.5856 - val_loss: 1.4611 - val_accuracy: 0.4837\n",
      "Epoch 15/50\n",
      "49/49 [==============================] - 3s 61ms/step - loss: 1.1749 - accuracy: 0.5964 - val_loss: 1.4585 - val_accuracy: 0.4882\n",
      "Epoch 16/50\n",
      "49/49 [==============================] - 3s 58ms/step - loss: 1.1521 - accuracy: 0.6032 - val_loss: 1.4597 - val_accuracy: 0.4877\n",
      "Epoch 17/50\n",
      "49/49 [==============================] - 3s 57ms/step - loss: 1.1305 - accuracy: 0.6127 - val_loss: 1.4654 - val_accuracy: 0.4904\n",
      "Epoch 18/50\n",
      "49/49 [==============================] - 3s 58ms/step - loss: 1.1092 - accuracy: 0.6203 - val_loss: 1.4462 - val_accuracy: 0.4870\n",
      "Epoch 19/50\n",
      "49/49 [==============================] - 3s 58ms/step - loss: 1.0847 - accuracy: 0.6301 - val_loss: 1.4500 - val_accuracy: 0.4892\n",
      "Epoch 20/50\n",
      "49/49 [==============================] - 3s 59ms/step - loss: 1.0646 - accuracy: 0.6370 - val_loss: 1.4475 - val_accuracy: 0.4908\n",
      "Epoch 21/50\n",
      "49/49 [==============================] - 3s 61ms/step - loss: 1.0445 - accuracy: 0.6434 - val_loss: 1.4459 - val_accuracy: 0.4950\n",
      "Epoch 22/50\n",
      "49/49 [==============================] - 3s 60ms/step - loss: 1.0215 - accuracy: 0.6528 - val_loss: 1.4511 - val_accuracy: 0.4940\n",
      "Epoch 23/50\n",
      "49/49 [==============================] - 3s 60ms/step - loss: 1.0026 - accuracy: 0.6609 - val_loss: 1.4546 - val_accuracy: 0.4885\n",
      "Epoch 24/50\n",
      "49/49 [==============================] - 3s 64ms/step - loss: 0.9816 - accuracy: 0.6688 - val_loss: 1.4467 - val_accuracy: 0.4937\n",
      "Epoch 25/50\n",
      "49/49 [==============================] - 3s 60ms/step - loss: 0.9615 - accuracy: 0.6763 - val_loss: 1.4540 - val_accuracy: 0.4941\n",
      "Epoch 26/50\n",
      "49/49 [==============================] - 3s 60ms/step - loss: 0.9410 - accuracy: 0.6855 - val_loss: 1.4691 - val_accuracy: 0.4926\n",
      "Epoch 27/50\n",
      "49/49 [==============================] - 3s 64ms/step - loss: 0.9202 - accuracy: 0.6909 - val_loss: 1.4633 - val_accuracy: 0.4952\n",
      "Epoch 28/50\n",
      "49/49 [==============================] - 3s 64ms/step - loss: 0.8993 - accuracy: 0.6999 - val_loss: 1.4554 - val_accuracy: 0.4980\n",
      "Epoch 29/50\n",
      "49/49 [==============================] - 3s 61ms/step - loss: 0.8783 - accuracy: 0.7077 - val_loss: 1.4693 - val_accuracy: 0.4978\n",
      "Epoch 30/50\n",
      "49/49 [==============================] - 3s 62ms/step - loss: 0.8602 - accuracy: 0.7174 - val_loss: 1.4723 - val_accuracy: 0.4957\n",
      "Epoch 31/50\n",
      "49/49 [==============================] - 3s 68ms/step - loss: 0.8377 - accuracy: 0.7254 - val_loss: 1.4768 - val_accuracy: 0.4925\n",
      "Epoch 32/50\n",
      "49/49 [==============================] - 3s 65ms/step - loss: 0.8215 - accuracy: 0.7331 - val_loss: 1.4946 - val_accuracy: 0.4941\n",
      "Epoch 33/50\n",
      "49/49 [==============================] - 3s 66ms/step - loss: 0.8015 - accuracy: 0.7396 - val_loss: 1.4901 - val_accuracy: 0.4957\n",
      "Epoch 34/50\n",
      "49/49 [==============================] - 3s 65ms/step - loss: 0.7829 - accuracy: 0.7465 - val_loss: 1.4914 - val_accuracy: 0.4991\n",
      "Epoch 35/50\n",
      "49/49 [==============================] - 3s 63ms/step - loss: 0.7620 - accuracy: 0.7547 - val_loss: 1.5075 - val_accuracy: 0.4893\n",
      "Epoch 36/50\n",
      "49/49 [==============================] - 3s 65ms/step - loss: 0.7428 - accuracy: 0.7635 - val_loss: 1.5097 - val_accuracy: 0.4945\n",
      "Epoch 37/50\n",
      "49/49 [==============================] - 3s 66ms/step - loss: 0.7244 - accuracy: 0.7712 - val_loss: 1.5371 - val_accuracy: 0.4913\n",
      "Epoch 38/50\n",
      "49/49 [==============================] - 3s 65ms/step - loss: 0.7048 - accuracy: 0.7787 - val_loss: 1.5548 - val_accuracy: 0.4841\n",
      "Epoch 39/50\n",
      "49/49 [==============================] - 3s 64ms/step - loss: 0.6888 - accuracy: 0.7858 - val_loss: 1.5424 - val_accuracy: 0.4914\n",
      "Epoch 40/50\n",
      "49/49 [==============================] - 3s 66ms/step - loss: 0.6689 - accuracy: 0.7940 - val_loss: 1.5521 - val_accuracy: 0.4956\n",
      "Epoch 41/50\n",
      "49/49 [==============================] - 3s 66ms/step - loss: 0.6524 - accuracy: 0.7988 - val_loss: 1.5717 - val_accuracy: 0.4916\n",
      "Epoch 42/50\n",
      "49/49 [==============================] - 3s 64ms/step - loss: 0.6334 - accuracy: 0.8066 - val_loss: 1.5799 - val_accuracy: 0.4894\n",
      "Epoch 43/50\n",
      "49/49 [==============================] - 4s 73ms/step - loss: 0.6154 - accuracy: 0.8153 - val_loss: 1.5872 - val_accuracy: 0.4898\n",
      "Epoch 44/50\n",
      "49/49 [==============================] - 4s 74ms/step - loss: 0.5985 - accuracy: 0.8202 - val_loss: 1.6100 - val_accuracy: 0.4898\n",
      "Epoch 00044: early stopping\n"
     ]
    }
   ],
   "source": [
    "model = build_mlp(input_shape=x_train.shape[1:])\n",
    "model.summary()\n",
    "optimizer = tf.keras.optimizers.SGD(lr=LEARNING_RATE, nesterov=True, momentum=MOMENTUM)\n",
    "model.compile(loss=\"categorical_crossentropy\", metrics=[\"accuracy\"], optimizer=optimizer)\n",
    "\n",
    "model.fit(x_train, y_train, \n",
    "          epochs=EPOCHS, \n",
    "          batch_size=BATCH_SIZE, \n",
    "          validation_data=(x_test, y_test), \n",
    "          shuffle=True,\n",
    "          callbacks=[earlystop]\n",
    "         )\n",
    "\n",
    "# Collect results\n",
    "train_loss = model.history.history[\"loss\"]\n",
    "valid_loss = model.history.history[\"val_loss\"]\n",
    "train_acc = model.history.history[\"accuracy\"]\n",
    "valid_acc = model.history.history[\"val_accuracy\"]"
   ]
  },
  {
   "cell_type": "code",
   "execution_count": 9,
   "metadata": {},
   "outputs": [
    {
     "data": {
      "image/png": "[encoded data removed]",
      "text/plain": [
       "<Figure size 432x288 with 1 Axes>"
      ]
     },
     "metadata": {
      "needs_background": "light"
     },
     "output_type": "display_data"
    },
    {
     "data": {
      "image/png": "[encoded data removed]",
      "text/plain": [
       "<Figure size 432x288 with 1 Axes>"
      ]
     },
     "metadata": {
      "needs_background": "light"
     },
     "output_type": "display_data"
    }
   ],
   "source": [
    "import matplotlib.pyplot as plt\n",
    "%matplotlib inline\n",
    "\n",
    "plt.plot(range(len(train_loss)), train_loss, label=\"train loss\")\n",
    "plt.plot(range(len(valid_loss)), valid_loss, label=\"valid loss\")\n",
    "plt.legend()\n",
    "plt.title(\"Loss\")\n",
    "plt.show()\n",
    "\n",
    "plt.plot(range(len(train_acc)), train_acc, label=\"train accuracy\")\n",
    "plt.plot(range(len(valid_acc)), valid_acc, label=\"valid accuracy\")\n",
    "plt.legend()\n",
    "plt.title(\"Accuracy\")\n",
    "plt.show()"
   ]
  },
  {
   "cell_type": "markdown",
   "metadata": {},
   "source": [
    "# earlystop 的等待次數 = 25"
   ]
  },
  {
   "cell_type": "code",
   "execution_count": 10,
   "metadata": {},
   "outputs": [],
   "source": [
    "# 載入 Callbacks\n",
    "\"\"\"Code Here\n",
    "設定 callbacks: Earlystop\n",
    "\"\"\"\n",
    "from keras.callbacks import EarlyStopping\n",
    "\n",
    "earlystop = EarlyStopping(monitor=\"val_loss\", \n",
    "                          patience=25, \n",
    "                          verbose=1\n",
    "                          )"
   ]
  },
  {
   "cell_type": "code",
   "execution_count": 11,
   "metadata": {},
   "outputs": [
    {
     "name": "stdout",
     "output_type": "stream",
     "text": [
      "Model: \"model_1\"\n",
      "_________________________________________________________________\n",
      "Layer (type)                 Output Shape              Param #   \n",
      "=================================================================\n",
      "input_2 (InputLayer)         [(None, 3072)]            0         \n",
      "_________________________________________________________________\n",
      "hidden_layer1 (Dense)        (None, 512)               1573376   \n",
      "_________________________________________________________________\n",
      "batch_normalization_3 (Batch (None, 512)               2048      \n",
      "_________________________________________________________________\n",
      "hidden_layer2 (Dense)        (None, 256)               131328    \n",
      "_________________________________________________________________\n",
      "batch_normalization_4 (Batch (None, 256)               1024      \n",
      "_________________________________________________________________\n",
      "hidden_layer3 (Dense)        (None, 128)               32896     \n",
      "_________________________________________________________________\n",
      "batch_normalization_5 (Batch (None, 128)               512       \n",
      "_________________________________________________________________\n",
      "output (Dense)               (None, 10)                1290      \n",
      "=================================================================\n",
      "Total params: 1,742,474\n",
      "Trainable params: 1,740,682\n",
      "Non-trainable params: 1,792\n",
      "_________________________________________________________________\n",
      "Epoch 1/50\n",
      "49/49 [==============================] - 4s 73ms/step - loss: 2.1980 - accuracy: 0.2738 - val_loss: 2.1938 - val_accuracy: 0.1584\n",
      "Epoch 2/50\n",
      "49/49 [==============================] - 3s 65ms/step - loss: 1.7392 - accuracy: 0.3960 - val_loss: 2.0192 - val_accuracy: 0.2572\n",
      "Epoch 3/50\n",
      "49/49 [==============================] - 3s 68ms/step - loss: 1.6163 - accuracy: 0.4353 - val_loss: 1.8650 - val_accuracy: 0.3328\n",
      "Epoch 4/50\n",
      "49/49 [==============================] - 3s 64ms/step - loss: 1.5447 - accuracy: 0.4619 - val_loss: 1.7417 - val_accuracy: 0.3892\n",
      "Epoch 5/50\n",
      "49/49 [==============================] - 3s 68ms/step - loss: 1.4905 - accuracy: 0.4803 - val_loss: 1.6521 - val_accuracy: 0.4196\n",
      "Epoch 6/50\n",
      "49/49 [==============================] - 3s 68ms/step - loss: 1.4465 - accuracy: 0.4958 - val_loss: 1.5999 - val_accuracy: 0.4377\n",
      "Epoch 7/50\n",
      "49/49 [==============================] - 3s 63ms/step - loss: 1.4063 - accuracy: 0.5119 - val_loss: 1.5646 - val_accuracy: 0.4456\n",
      "Epoch 8/50\n",
      "49/49 [==============================] - 3s 64ms/step - loss: 1.3730 - accuracy: 0.5242 - val_loss: 1.5290 - val_accuracy: 0.4620\n",
      "Epoch 9/50\n",
      "49/49 [==============================] - 3s 66ms/step - loss: 1.3402 - accuracy: 0.5361 - val_loss: 1.5096 - val_accuracy: 0.4649\n",
      "Epoch 10/50\n",
      "49/49 [==============================] - 3s 67ms/step - loss: 1.3108 - accuracy: 0.5454 - val_loss: 1.4998 - val_accuracy: 0.4689\n",
      "Epoch 11/50\n",
      "49/49 [==============================] - 3s 65ms/step - loss: 1.2816 - accuracy: 0.5565 - val_loss: 1.4910 - val_accuracy: 0.4690\n",
      "Epoch 12/50\n",
      "49/49 [==============================] - 3s 66ms/step - loss: 1.2558 - accuracy: 0.5655 - val_loss: 1.4742 - val_accuracy: 0.4754\n",
      "Epoch 13/50\n",
      "49/49 [==============================] - 3s 69ms/step - loss: 1.2313 - accuracy: 0.5739 - val_loss: 1.4612 - val_accuracy: 0.4834\n",
      "Epoch 14/50\n",
      "49/49 [==============================] - 3s 71ms/step - loss: 1.2055 - accuracy: 0.5821 - val_loss: 1.4606 - val_accuracy: 0.4850\n",
      "Epoch 15/50\n",
      "49/49 [==============================] - 3s 68ms/step - loss: 1.1817 - accuracy: 0.5898 - val_loss: 1.4644 - val_accuracy: 0.4822\n",
      "Epoch 16/50\n",
      "49/49 [==============================] - 4s 73ms/step - loss: 1.1586 - accuracy: 0.6001 - val_loss: 1.4550 - val_accuracy: 0.4878\n",
      "Epoch 17/50\n",
      "49/49 [==============================] - 3s 69ms/step - loss: 1.1345 - accuracy: 0.6106 - val_loss: 1.4559 - val_accuracy: 0.4862\n",
      "Epoch 18/50\n",
      "49/49 [==============================] - 4s 72ms/step - loss: 1.1146 - accuracy: 0.6176 - val_loss: 1.4486 - val_accuracy: 0.4897\n",
      "Epoch 19/50\n",
      "49/49 [==============================] - 4s 74ms/step - loss: 1.0916 - accuracy: 0.6261 - val_loss: 1.4589 - val_accuracy: 0.4855\n",
      "Epoch 20/50\n",
      "49/49 [==============================] - 4s 78ms/step - loss: 1.0704 - accuracy: 0.6319 - val_loss: 1.4530 - val_accuracy: 0.4896\n",
      "Epoch 21/50\n",
      "49/49 [==============================] - 3s 71ms/step - loss: 1.0481 - accuracy: 0.6426 - val_loss: 1.4586 - val_accuracy: 0.4956\n",
      "Epoch 22/50\n",
      "49/49 [==============================] - 3s 71ms/step - loss: 1.0292 - accuracy: 0.6484 - val_loss: 1.4487 - val_accuracy: 0.4980\n",
      "Epoch 23/50\n",
      "49/49 [==============================] - 3s 71ms/step - loss: 1.0074 - accuracy: 0.6584 - val_loss: 1.4599 - val_accuracy: 0.4943\n",
      "Epoch 24/50\n",
      "49/49 [==============================] - 3s 71ms/step - loss: 0.9841 - accuracy: 0.6675 - val_loss: 1.4525 - val_accuracy: 0.4949\n",
      "Epoch 25/50\n",
      "49/49 [==============================] - 4s 74ms/step - loss: 0.9666 - accuracy: 0.6749 - val_loss: 1.4633 - val_accuracy: 0.4942\n",
      "Epoch 26/50\n",
      "49/49 [==============================] - 4s 74ms/step - loss: 0.9440 - accuracy: 0.6825 - val_loss: 1.4719 - val_accuracy: 0.4937\n",
      "Epoch 27/50\n",
      "49/49 [==============================] - 4s 76ms/step - loss: 0.9239 - accuracy: 0.6898 - val_loss: 1.4554 - val_accuracy: 0.4972\n",
      "Epoch 28/50\n",
      "49/49 [==============================] - 4s 74ms/step - loss: 0.9041 - accuracy: 0.6980 - val_loss: 1.4614 - val_accuracy: 0.4974\n",
      "Epoch 29/50\n",
      "49/49 [==============================] - 4s 84ms/step - loss: 0.8850 - accuracy: 0.7050 - val_loss: 1.4725 - val_accuracy: 0.4952\n",
      "Epoch 30/50\n",
      "49/49 [==============================] - 4s 83ms/step - loss: 0.8671 - accuracy: 0.7120 - val_loss: 1.4690 - val_accuracy: 0.4952\n",
      "Epoch 31/50\n",
      "49/49 [==============================] - 4s 75ms/step - loss: 0.8476 - accuracy: 0.7200 - val_loss: 1.4787 - val_accuracy: 0.5033\n",
      "Epoch 32/50\n",
      "49/49 [==============================] - 4s 75ms/step - loss: 0.8249 - accuracy: 0.7283 - val_loss: 1.4898 - val_accuracy: 0.4980\n",
      "Epoch 33/50\n",
      "49/49 [==============================] - 4s 76ms/step - loss: 0.8055 - accuracy: 0.7370 - val_loss: 1.4916 - val_accuracy: 0.4993\n",
      "Epoch 34/50\n",
      "49/49 [==============================] - 4s 76ms/step - loss: 0.7887 - accuracy: 0.7427 - val_loss: 1.4993 - val_accuracy: 0.4947\n",
      "Epoch 35/50\n",
      "49/49 [==============================] - 4s 84ms/step - loss: 0.7702 - accuracy: 0.7497 - val_loss: 1.5185 - val_accuracy: 0.4981\n",
      "Epoch 36/50\n",
      "49/49 [==============================] - 4s 89ms/step - loss: 0.7499 - accuracy: 0.7586 - val_loss: 1.5024 - val_accuracy: 0.5000\n",
      "Epoch 37/50\n",
      "49/49 [==============================] - 4s 85ms/step - loss: 0.7308 - accuracy: 0.7645 - val_loss: 1.5298 - val_accuracy: 0.4966\n",
      "Epoch 38/50\n",
      "49/49 [==============================] - 4s 81ms/step - loss: 0.7123 - accuracy: 0.7737 - val_loss: 1.5416 - val_accuracy: 0.4956\n",
      "Epoch 39/50\n",
      "49/49 [==============================] - 4s 74ms/step - loss: 0.6944 - accuracy: 0.7802 - val_loss: 1.5527 - val_accuracy: 0.4989\n",
      "Epoch 40/50\n",
      "49/49 [==============================] - 4s 77ms/step - loss: 0.6770 - accuracy: 0.7876 - val_loss: 1.5586 - val_accuracy: 0.4948\n",
      "Epoch 41/50\n",
      "49/49 [==============================] - 4s 75ms/step - loss: 0.6595 - accuracy: 0.7947 - val_loss: 1.5607 - val_accuracy: 0.4975\n",
      "Epoch 42/50\n",
      "49/49 [==============================] - 4s 76ms/step - loss: 0.6421 - accuracy: 0.8007 - val_loss: 1.5697 - val_accuracy: 0.4962\n",
      "Epoch 43/50\n",
      "49/49 [==============================] - 4s 76ms/step - loss: 0.6222 - accuracy: 0.8094 - val_loss: 1.5875 - val_accuracy: 0.4931\n",
      "Epoch 00043: early stopping\n"
     ]
    }
   ],
   "source": [
    "model = build_mlp(input_shape=x_train.shape[1:])\n",
    "model.summary()\n",
    "optimizer = tf.keras.optimizers.SGD(lr=LEARNING_RATE, nesterov=True, momentum=MOMENTUM)\n",
    "model.compile(loss=\"categorical_crossentropy\", metrics=[\"accuracy\"], optimizer=optimizer)\n",
    "\n",
    "model.fit(x_train, y_train, \n",
    "          epochs=EPOCHS, \n",
    "          batch_size=BATCH_SIZE, \n",
    "          validation_data=(x_test, y_test), \n",
    "          shuffle=True,\n",
    "          callbacks=[earlystop]\n",
    "         )\n",
    "\n",
    "# Collect results\n",
    "train_loss = model.history.history[\"loss\"]\n",
    "valid_loss = model.history.history[\"val_loss\"]\n",
    "train_acc = model.history.history[\"accuracy\"]\n",
    "valid_acc = model.history.history[\"val_accuracy\"]"
   ]
  },
  {
   "cell_type": "code",
   "execution_count": 12,
   "metadata": {},
   "outputs": [
    {
     "data": {
      "image/png": "[encoded data removed]",
      "text/plain": [
       "<Figure size 432x288 with 1 Axes>"
      ]
     },
     "metadata": {
      "needs_background": "light"
     },
     "output_type": "display_data"
    },
    {
     "data": {
      "image/png": "[encoded data removed]",
      "text/plain": [
       "<Figure size 432x288 with 1 Axes>"
      ]
     },
     "metadata": {
      "needs_background": "light"
     },
     "output_type": "display_data"
    }
   ],
   "source": [
    "import matplotlib.pyplot as plt\n",
    "%matplotlib inline\n",
    "\n",
    "plt.plot(range(len(train_loss)), train_loss, label=\"train loss\")\n",
    "plt.plot(range(len(valid_loss)), valid_loss, label=\"valid loss\")\n",
    "plt.legend()\n",
    "plt.title(\"Loss\")\n",
    "plt.show()\n",
    "\n",
    "plt.plot(range(len(train_acc)), train_acc, label=\"train accuracy\")\n",
    "plt.plot(range(len(valid_acc)), valid_acc, label=\"valid accuracy\")\n",
    "plt.legend()\n",
    "plt.title(\"Accuracy\")\n",
    "plt.show()"
   ]
  },
  {
   "cell_type": "markdown",
   "metadata": {},
   "source": [
    "結論\n",
    "不知道為何沒有出現early stop的結果\n",
    "繼續鑽研，未來搞清楚原因後會回來修改的"
   ]
  }
 ],
 "metadata": {
  "kernelspec": {
   "display_name": "Python 3",
   "language": "python",
   "name": "python3"
  },
  "language_info": {
   "codemirror_mode": {
    "name": "ipython",
    "version": 3
   },
   "file_extension": ".py",
   "mimetype": "text/x-python",
   "name": "python",
   "nbconvert_exporter": "python",
   "pygments_lexer": "ipython3",
   "version": "3.8.8"
  }
 },
 "nbformat": 4,
 "nbformat_minor": 2
}
